{
 "cells": [
  {
   "cell_type": "code",
   "execution_count": 1,
   "metadata": {},
   "outputs": [],
   "source": [
    "import pandas as pd\n",
    "import numpy as np\n",
    "import entropy_utils as eu\n",
    "import random\n",
    "import tqdm"
   ]
  },
  {
   "cell_type": "code",
   "execution_count": 5,
   "metadata": {},
   "outputs": [
    {
     "name": "stderr",
     "output_type": "stream",
     "text": [
      "/apps/software/standard/compiler/gcc/9.2.0/jupyter_conda/2020.11-py3.8/lib/python3.8/site-packages/IPython/core/interactiveshell.py:3146: DtypeWarning: Columns (16) have mixed types.Specify dtype option on import or set low_memory=False.\n",
      "  has_raised = await self.run_ast_nodes(code_ast.body, cell_name,\n"
     ]
    }
   ],
   "source": [
    "metadata = pd.read_csv(\"/scratch/jho5ze/bionets/covid/variant_data/metadata.tsv\", sep=\"\\t\", parse_dates = [\"Collection date\", \"Submission date\"])\n",
    "# print(metadata.columns)\n",
    "# metadata = metadata[[\"Accession ID\", \\\n",
    "#                    \"Collection date\", \\\n",
    "#                    \"Submission date\", \\\n",
    "#                    \"Location\", \\\n",
    "#                    \"Additional location information\", \\\n",
    "#                    \"Sequence length\", \\\n",
    "#                    \"Host\", \\\n",
    "#                    \"AA Substitutions\", \\\n",
    "#                    \"Is reference?\", \\\n",
    "#                    \"Pango lineage\"]]\n",
    "def get_nth_slash(row, n):\n",
    "    try:\n",
    "        return row.split(\"/\")[n].strip()\n",
    "    except:\n",
    "        return np.nan\n",
    "    \n",
    "for i in range(4):\n",
    "    metadata[f\"Location_{i}\"] = metadata[\"Location\"].apply(lambda row: get_nth_slash(row, i))\n",
    "metadata = metadata.rename(columns={\"Location_1\":\"country\", \"Location_2\":\"state\"})\n",
    "metadata = metadata[metadata[\"country\"] == \"USA\"]\n",
    "metadata[\"alias\"] = metadata[\"Virus name\"].apply(lambda row: \"/\".join(row.split(\"/\")[2:]))\n",
    "# metdata = metadata.rename(columns={\"Accession ID\":\"EPI\"})"
   ]
  },
  {
   "cell_type": "code",
   "execution_count": 7,
   "metadata": {},
   "outputs": [
    {
     "name": "stderr",
     "output_type": "stream",
     "text": [
      "<ipython-input-7-b89680a04ba5>:2: SettingWithCopyWarning: \n",
      "A value is trying to be set on a copy of a slice from a DataFrame.\n",
      "Try using .loc[row_indexer,col_indexer] = value instead\n",
      "\n",
      "See the caveats in the documentation: https://pandas.pydata.org/pandas-docs/stable/user_guide/indexing.html#returning-a-view-versus-a-copy\n",
      "  va_metadata[\"alias\"] = va_metadata.alias.apply(lambda row: row.split(\"/\")[0])\n"
     ]
    }
   ],
   "source": [
    "va_metadata = metadata[metadata.state == \"Virginia\"]\n",
    "va_metadata[\"alias\"] = va_metadata.alias.apply(lambda row: row.split(\"/\")[0])\n",
    "id_to_accession = va_metadata.set_index(\"alias\")[\"Accession ID\"].to_dict()\n",
    "# va_metadata[va_metadata.alias.isin(variants[\"DCLS Sequencing ID\"])]"
   ]
  },
  {
   "cell_type": "code",
   "execution_count": 15,
   "metadata": {},
   "outputs": [
    {
     "data": {
      "text/plain": [
       "['hCoV-19/USA/VA-DCLS-4481/2021',\n",
       " 'hCoV-19/USA/VA-DCLS-4495/2021',\n",
       " 'hCoV-19/USA/VA-DCLS-4581/2021',\n",
       " 'hCoV-19/USA/VA-DCLS-4584/2021',\n",
       " 'hCoV-19/USA/VA-DCLS-4585/2021',\n",
       " 'hCoV-19/USA/VA-DCLS-4590/2021',\n",
       " 'hCoV-19/USA/VA-DCLS-4592/2021',\n",
       " 'hCoV-19/USA/VA-DCLS-4601/2021',\n",
       " 'hCoV-19/USA/VA-CDC-2-4855871/2021',\n",
       " 'hCoV-19/USA/VA-CDC-2-4855891/2021']"
      ]
     },
     "execution_count": 15,
     "metadata": {},
     "output_type": "execute_result"
    }
   ],
   "source": [
    "alias = va_metadata[\"Virus name\"].tolist() #.apply(lambda row: row.split(\"/\")[2].split(\"-\")[0]).value_counts()\n",
    "alias[:10] #[i for i in alias if \"CAV\" in i]"
   ]
  },
  {
   "cell_type": "code",
   "execution_count": null,
   "metadata": {},
   "outputs": [],
   "source": [
    "variants = pd.read_csv(\"/sfs/qumulo/qproject/biocomplexity/COVID-19_commons/products/external_data_collection/VDH_opioids/VDH-UVA-DSA-COVID-19-Variant.tsv\", sep=\"\\t\", parse_dates=[\"Report Date\", \"Event_Dt_Upd\", \"WEEK_END_DT_CDC\"], dtype={\"PATIENT_COUNTY\":str}) #, parse_dates=[\"report_date\", \"date\"], dtype={\"fips\":str})\n",
    "print(variants.head())\n",
    "for i in variants.COVID_19_VARIANT.unique():\n",
    "    print(i)"
   ]
  },
  {
   "cell_type": "code",
   "execution_count": 2,
   "metadata": {},
   "outputs": [
    {
     "name": "stdout",
     "output_type": "stream",
     "text": [
      "  COVID_19_VARIANT Specimen_Id  Report Date VARIANT_CLEAN Vaccine Age group  \\\n",
      "0  B.1.1.7 - Alpha   R210410256  2021-11-15       B.1.1.7       65-74 Years   \n",
      "1  B.1.1.7 - Alpha   R210504305  2021-11-15       B.1.1.7         0-4 Years   \n",
      "2  B.1.1.7 - Alpha   R210504949  2021-11-15       B.1.1.7       35-44 Years   \n",
      "3  B.1.1.7 - Alpha   R210504950  2021-11-15       B.1.1.7       65-74 Years   \n",
      "4  B.1.1.7 - Alpha   R210505666  2021-11-15       B.1.1.7       18-24 Years   \n",
      "\n",
      "     Age Group  Patient Age in Years Tiered Race Ethnicity  Variant Count  \\\n",
      "0  60-69 Years                    69                 Black              1   \n",
      "1    0-9 Years                     0            Other Race              1   \n",
      "2  30-39 Years                    36          Not Reported              1   \n",
      "3  70-79 Years                    70                 Black              1   \n",
      "4  20-29 Years                    20                 White              1   \n",
      "\n",
      "   Death Count  ...  PATIENT_CURRENT_SEX PATIENT_COUNTY OUTBREAK_IND  \\\n",
      "0            0  ...               Female          51740            N   \n",
      "1            0  ...               Female          51087            N   \n",
      "2            0  ...               Female          51035            N   \n",
      "3            0  ...               Female          51740          UNK   \n",
      "4            0  ...               Female          51590            N   \n",
      "\n",
      "  Event_Dt_Upd WEEK_END_DT_CDC Lab_Report_Dt Testing_Lab_Accession_Number  \\\n",
      "0   2021-04-09      2021-04-10     5/27/2021               R210410256-001   \n",
      "1   2021-04-26      2021-05-01     5/27/2021               R210504305-001   \n",
      "2   2021-05-01      2021-05-01     5/27/2021               R210504949-001   \n",
      "3   2021-05-01      2021-05-01     5/27/2021               R210504950-001   \n",
      "4   2021-05-08      2021-05-08     5/27/2021               R210505666-001   \n",
      "\n",
      "  Reporting_Facility_Name             Ordering_Facility_Name  \\\n",
      "0           Virginia DCLS  PORTSMOUTH CITY HEALTH DEPARTMENT   \n",
      "1           Virginia DCLS     BON SECOURS ST MARY'S HOSPITAL   \n",
      "2           Virginia DCLS      LABCORP OF AMERICA-BURLINGTON   \n",
      "3           Virginia DCLS         PORTSMOUTH HEALTH DISTRICT   \n",
      "4           Virginia DCLS    DANVILLE CITY HEALTH DEPARTMENT   \n",
      "\n",
      "  DCLS Sequencing ID  \n",
      "0       VA-DCLS-5118  \n",
      "1       VA-DCLS-5119  \n",
      "2       VA-DCLS-5121  \n",
      "3       VA-DCLS-5122  \n",
      "4       VA-DCLS-5130  \n",
      "\n",
      "[5 rows x 22 columns]\n"
     ]
    },
    {
     "ename": "NameError",
     "evalue": "name 'va_metadata' is not defined",
     "output_type": "error",
     "traceback": [
      "\u001b[0;31m---------------------------------------------------------------------------\u001b[0m",
      "\u001b[0;31mNameError\u001b[0m                                 Traceback (most recent call last)",
      "\u001b[0;32m<ipython-input-2-1616e84f4c20>\u001b[0m in \u001b[0;36m<module>\u001b[0;34m\u001b[0m\n\u001b[1;32m      4\u001b[0m \u001b[0;31m# print(sorted(variants.WEEK_END_DT_CDC.unique()))\u001b[0m\u001b[0;34m\u001b[0m\u001b[0;34m\u001b[0m\u001b[0;34m\u001b[0m\u001b[0m\n\u001b[1;32m      5\u001b[0m \u001b[0;31m# variants = variants[(\"2021-07-01\" < variants.WEEK_END_DT_CDC) & (variants.WEEK_END_DT_CDC < \"2021-08-21\")]\u001b[0m\u001b[0;34m\u001b[0m\u001b[0;34m\u001b[0m\u001b[0;34m\u001b[0m\u001b[0m\n\u001b[0;32m----> 6\u001b[0;31m \u001b[0mvariants\u001b[0m \u001b[0;34m=\u001b[0m \u001b[0mvariants\u001b[0m\u001b[0;34m[\u001b[0m\u001b[0mvariants\u001b[0m\u001b[0;34m[\u001b[0m\u001b[0;34m\"DCLS Sequencing ID\"\u001b[0m\u001b[0;34m]\u001b[0m\u001b[0;34m.\u001b[0m\u001b[0misin\u001b[0m\u001b[0;34m(\u001b[0m\u001b[0mva_metadata\u001b[0m\u001b[0;34m.\u001b[0m\u001b[0malias\u001b[0m\u001b[0;34m)\u001b[0m\u001b[0;34m]\u001b[0m\u001b[0;34m\u001b[0m\u001b[0;34m\u001b[0m\u001b[0m\n\u001b[0m\u001b[1;32m      7\u001b[0m \u001b[0mvariants\u001b[0m\u001b[0;34m[\u001b[0m\u001b[0;34m\"accession\"\u001b[0m\u001b[0;34m]\u001b[0m \u001b[0;34m=\u001b[0m \u001b[0mvariants\u001b[0m\u001b[0;34m[\u001b[0m\u001b[0;34m\"DCLS Sequencing ID\"\u001b[0m\u001b[0;34m]\u001b[0m\u001b[0;34m.\u001b[0m\u001b[0mapply\u001b[0m\u001b[0;34m(\u001b[0m\u001b[0;32mlambda\u001b[0m \u001b[0mrow\u001b[0m\u001b[0;34m:\u001b[0m \u001b[0mid_to_accession\u001b[0m\u001b[0;34m[\u001b[0m\u001b[0mrow\u001b[0m\u001b[0;34m]\u001b[0m\u001b[0;34m)\u001b[0m\u001b[0;34m\u001b[0m\u001b[0;34m\u001b[0m\u001b[0m\n\u001b[1;32m      8\u001b[0m \u001b[0mall_fips\u001b[0m \u001b[0;34m=\u001b[0m \u001b[0mvariants\u001b[0m\u001b[0;34m.\u001b[0m\u001b[0mPATIENT_COUNTY\u001b[0m\u001b[0;34m.\u001b[0m\u001b[0munique\u001b[0m\u001b[0;34m(\u001b[0m\u001b[0;34m)\u001b[0m\u001b[0;34m.\u001b[0m\u001b[0mastype\u001b[0m\u001b[0;34m(\u001b[0m\u001b[0mstr\u001b[0m\u001b[0;34m)\u001b[0m\u001b[0;34m.\u001b[0m\u001b[0mtolist\u001b[0m\u001b[0;34m(\u001b[0m\u001b[0;34m)\u001b[0m\u001b[0;34m\u001b[0m\u001b[0;34m\u001b[0m\u001b[0m\n",
      "\u001b[0;31mNameError\u001b[0m: name 'va_metadata' is not defined"
     ]
    }
   ],
   "source": [
    "variants = pd.read_csv(\"/sfs/qumulo/qproject/biocomplexity/COVID-19_commons/products/external_data_collection/VDH_opioids/VDH-UVA-DSA-COVID-19-Variant.tsv\", sep=\"\\t\", parse_dates=[\"Report Date\", \"Event_Dt_Upd\", \"WEEK_END_DT_CDC\"], dtype={\"PATIENT_COUNTY\":str}) #, parse_dates=[\"report_date\", \"date\"], dtype={\"fips\":str})\n",
    "print(variants.head())\n",
    "variants = variants[[\"Report Date\", \"WEEK_END_DT_CDC\", \"Event_Dt_Upd\", \"PATIENT_COUNTY\", \"DCLS Sequencing ID\"]]\n",
    "# print(sorted(variants.WEEK_END_DT_CDC.unique()))\n",
    "# variants = variants[(\"2021-07-01\" < variants.WEEK_END_DT_CDC) & (variants.WEEK_END_DT_CDC < \"2021-08-21\")]\n",
    "variants = variants[variants[\"DCLS Sequencing ID\"].isin(va_metadata.alias)]\n",
    "variants[\"accession\"] = variants[\"DCLS Sequencing ID\"].apply(lambda row: id_to_accession[row])\n",
    "all_fips = variants.PATIENT_COUNTY.unique().astype(str).tolist()\n",
    "variants[\"Event_Dt_Upd\"].value_counts().sum()\n",
    "\n",
    "variants[\"is_in_msadb\"] = variants.accession.apply(lambda row: row in eu.msadb)\n",
    "# variants = variants[variants.is_in_msadb == True]\n",
    "print(variants.shape)"
   ]
  },
  {
   "cell_type": "code",
   "execution_count": 8,
   "metadata": {},
   "outputs": [
    {
     "data": {
      "text/plain": [
       "<AxesSubplot:xlabel='Event_Dt_Upd'>"
      ]
     },
     "execution_count": 8,
     "metadata": {},
     "output_type": "execute_result"
    },
    {
     "data": {
      "image/png": "[encoded data removed]",
      "text/plain": [
       "<Figure size 432x288 with 1 Axes>"
      ]
     },
     "metadata": {
      "needs_background": "light"
     },
     "output_type": "display_data"
    }
   ],
   "source": [
    "data = variants.groupby(\"is_in_msadb\")[\"Event_Dt_Upd\"].value_counts() #.reset_index() #.plot()\n",
    "data.rename(\"count\").reset_index().pivot(index=\"Event_Dt_Upd\", columns = \"is_in_msadb\", values=\"count\").plot()"
   ]
  },
  {
   "cell_type": "code",
   "execution_count": 40,
   "metadata": {},
   "outputs": [
    {
     "data": {
      "text/plain": [
       "<AxesSubplot:xlabel='WEEK_END_DT_CDC'>"
      ]
     },
     "execution_count": 40,
     "metadata": {},
     "output_type": "execute_result"
    },
    {
     "data": {
      "image/png": "[encoded data removed]",
      "text/plain": [
       "<Figure size 432x288 with 1 Axes>"
      ]
     },
     "metadata": {
      "needs_background": "light"
     },
     "output_type": "display_data"
    }
   ],
   "source": [
    "variants.groupby(\"WEEK_END_DT_CDC\").count()[\"accession\"].plot()"
   ]
  },
  {
   "cell_type": "code",
   "execution_count": 80,
   "metadata": {},
   "outputs": [],
   "source": [
    "fips_groups = dict()\n",
    "groups_fips = dict()\n",
    "with open(\"../data/network.tree\") as src:\n",
    "    for line in src.readlines():\n",
    "        if line[0] == \"#\":\n",
    "            continue\n",
    "            \n",
    "        module, weight, _, fips = line.split()\n",
    "        if fips not in all_fips:\n",
    "            continue\n",
    "        cluster = module.split(\":\")[0]\n",
    "        fips_groups[fips] = cluster\n",
    "        groups_fips.setdefault(int(cluster), []).append(fips)\n",
    "        \n"
   ]
  },
  {
   "cell_type": "code",
   "execution_count": null,
   "metadata": {},
   "outputs": [],
   "source": [
    "\"\"\"Sample 400 of them\"\"\""
   ]
  },
  {
   "cell_type": "code",
   "execution_count": 37,
   "metadata": {},
   "outputs": [
    {
     "data": {
      "text/plain": [
       "<AxesSubplot:xlabel='Event_Dt_Upd'>"
      ]
     },
     "execution_count": 37,
     "metadata": {},
     "output_type": "execute_result"
    },
    {
     "data": {
      "image/png": "[encoded data removed]",
      "text/plain": [
       "<Figure size 432x288 with 1 Axes>"
      ]
     },
     "metadata": {
      "needs_background": "light"
     },
     "output_type": "display_data"
    }
   ],
   "source": [
    "variants.groupby(\"Event_Dt_Upd\").count()[\"accession\"].plot()"
   ]
  },
  {
   "cell_type": "code",
   "execution_count": 85,
   "metadata": {},
   "outputs": [],
   "source": [
    "class FipsNode:\n",
    "    all_fips = []\n",
    "    fips_data = None\n",
    "    date_data = None\n",
    "    data = None\n",
    "    def __init__(self, fips, data):\n",
    "        random.shuffle(fips)\n",
    "        self.fips = fips\n",
    "        self.data = data.copy()\n",
    "        \n",
    "    def get_next_accession(self, date):\n",
    "\n",
    "        date_data = self.data[self.data.WEEK_END_DT_CDC == date]\n",
    "        data_fips = date_data.PATIENT_COUNTY.unique().tolist()\n",
    "\n",
    "        found_a_fips = False\n",
    "        \n",
    "        for ix, fips in enumerate(all_fips):\n",
    "            if fips in data_fips:\n",
    "                found_a_fips = True\n",
    "                break\n",
    "        \n",
    "        if not found_a_fips:\n",
    "            return \"\"\n",
    "        \n",
    "        else:\n",
    "            all_fips.pop(ix)\n",
    "            all_fips.append(fips)\n",
    "            accession = date_data[date_data.PATIENT_COUNTY == fips].accession.sample().tolist()[0]\n",
    "            self.data = self.data[self.data.accession != accession]\n",
    "\n",
    "            return accession\n",
    "    "
   ]
  },
  {
   "cell_type": "code",
   "execution_count": 88,
   "metadata": {},
   "outputs": [],
   "source": [
    "random_sample_list = []\n",
    "strat_sample_list = []\n",
    "\n",
    "for sample_ix in range(10):\n",
    "    random_sample = []\n",
    "    strat_sample = []\n",
    "    \n",
    "    nodes = [FipsNode(groups_fips[ix+1], variants) for ix in range(9)]\n",
    "    \n",
    "    for date in variants.WEEK_END_DT_CDC.unique():\n",
    "        accessions = variants[variants.WEEK_END_DT_CDC == date].accession.tolist()\n",
    "        randoms = random.sample(accessions, 50)\n",
    "        random_sample.extend(randoms)\n",
    "        for ix in range(50):\n",
    "            strat_ix = nodes[ix%9].get_next_accession(date)\n",
    "            strat_sample.append(strat_ix)\n",
    "            \n",
    "    random_sample_list.append(random_sample)\n",
    "    strat_sample_list.append(strat_sample)\n",
    "            \n",
    "    \n",
    "# len(strat_sample)"
   ]
  },
  {
   "cell_type": "code",
   "execution_count": 91,
   "metadata": {},
   "outputs": [
    {
     "data": {
      "text/plain": [
       "106"
      ]
     },
     "execution_count": 91,
     "metadata": {},
     "output_type": "execute_result"
    }
   ],
   "source": [
    "len(set(random_sample_list[0]) & set(strat_sample_list[0]))"
   ]
  },
  {
   "cell_type": "code",
   "execution_count": 94,
   "metadata": {},
   "outputs": [
    {
     "data": {
      "text/plain": [
       "350"
      ]
     },
     "execution_count": 94,
     "metadata": {},
     "output_type": "execute_result"
    }
   ],
   "source": [
    "len(strat_sample_list[0])"
   ]
  },
  {
   "cell_type": "code",
   "execution_count": 113,
   "metadata": {},
   "outputs": [],
   "source": [
    "sample_count = 400\n",
    "\n",
    "strat_samples = []\n",
    "strat_samples_fips = []\n",
    "for sample_ix in range(30):\n",
    "    \n",
    "    fips_ids = dict()\n",
    "    for fips, sid in variants[[\"PATIENT_COUNTY\", \"accession\"]].to_numpy(): #.set_index(\"PATIENT_COUNTY\")[\"DCLS Sequencing ID\"]\n",
    "        fips_ids.setdefault(fips, []).append(sid)\n",
    "\n",
    "    for fips in fips_ids:\n",
    "        random.shuffle(fips_ids[fips])\n",
    "\n",
    "    current_group_count = {i:0 for i in range(1,10)}\n",
    "    \n",
    "    sample = []\n",
    "    sample_fips = []\n",
    "    for ix in range(sample_count):\n",
    "        group = 1 + (ix % 9)\n",
    "        fips = \"\"\n",
    "        tries = 0\n",
    "        while fips == \"\" and tries < len(groups_fips[group]):\n",
    "            try_fips = groups_fips[group][current_group_count[group]]\n",
    "            if fips_ids[int(try_fips)]:\n",
    "                fips = try_fips\n",
    "                sample.append(fips_ids[int(fips)].pop()) \n",
    "                sample_fips.append(fips)\n",
    "            else:\n",
    "                tries += 1\n",
    "        current_group_count[group] = (current_group_count[group] + 1 + tries) % len(groups_fips[group])\n",
    "        \n",
    "    strat_samples.append(sample)\n",
    "    strat_samples_fips.append(sample_fips)\n",
    "\n",
    "random_samples = []\n",
    "for sample_ix in range(30):\n",
    "    sample = variants[\"accession\"].tolist()\n",
    "    sample = random.sample(sample, 300)\n",
    "        \n",
    "    random_samples.append(sample)"
   ]
  },
  {
   "cell_type": "code",
   "execution_count": 147,
   "metadata": {},
   "outputs": [
    {
     "data": {
      "text/plain": [
       "47"
      ]
     },
     "execution_count": 147,
     "metadata": {},
     "output_type": "execute_result"
    }
   ],
   "source": [
    "len(set(strat_samples[0]).intersection(set(random_samples[0])))"
   ]
  },
  {
   "cell_type": "code",
   "execution_count": 122,
   "metadata": {},
   "outputs": [
    {
     "data": {
      "text/plain": [
       "array(['Fully Vaccinated', 'Partially Vaccinated', 'Unvaccinated'],\n",
       "      dtype=object)"
      ]
     },
     "execution_count": 122,
     "metadata": {},
     "output_type": "execute_result"
    }
   ],
   "source": [
    "pd.read_csv(\"/sfs/qumulo/qproject/biocomplexity/COVID-19_commons/products/external_data_collection/VDH_public/VDH-COVID-19-PublicUseDataset-Cases-by-Vaccination-Status.csv\").vaccination_status.unique()"
   ]
  },
  {
   "cell_type": "code",
   "execution_count": 141,
   "metadata": {},
   "outputs": [],
   "source": [
    "names = []\n",
    "seqs = []\n",
    "for line in eu.msa_from_screed_ids(strat_samples[0][:6]):\n",
    "    if line[0] == \">\":\n",
    "        names.append(line)\n",
    "    else:\n",
    "        l = []\n",
    "        for c in line:\n",
    "            l.append(c)\n",
    "        seqs.append(l)"
   ]
  },
  {
   "cell_type": "code",
   "execution_count": 132,
   "metadata": {},
   "outputs": [
    {
     "data": {
      "text/plain": [
       "['C', 'A', 'C', 'A', 'C', 'G', 'T', 'C', 'C', 'A']"
      ]
     },
     "execution_count": 132,
     "metadata": {},
     "output_type": "execute_result"
    }
   ],
   "source": [
    "seqs[0][400:410]"
   ]
  },
  {
   "cell_type": "code",
   "execution_count": 142,
   "metadata": {},
   "outputs": [
    {
     "data": {
      "text/plain": [
       "4"
      ]
     },
     "execution_count": 142,
     "metadata": {},
     "output_type": "execute_result"
    }
   ],
   "source": [
    "len(names)"
   ]
  },
  {
   "cell_type": "code",
   "execution_count": 127,
   "metadata": {},
   "outputs": [],
   "source": [
    "ixs = []\n",
    "for ix, ch in enumerate(seqs[0]):\n",
    "    has_dash = 0\n",
    "    for s in seqs:\n",
    "        if s[ix] == \"-\":\n",
    "            has_dash += 1\n",
    "    if has_dash == len(seqs):\n",
    "        ixs.append(ix)"
   ]
  },
  {
   "cell_type": "code",
   "execution_count": 145,
   "metadata": {},
   "outputs": [],
   "source": [
    "with open(\"test.msa\", \"w\") as dest:\n",
    "    for six in range(len(seqs)):\n",
    "        dest.write(names[six] + \"\\n\")\n",
    "        seq = \"\".join([i for ix, i in enumerate(seqs[ix]) if ix not in ixs])\n",
    "        dest.write(seq + \"\\n\")"
   ]
  },
  {
   "cell_type": "code",
   "execution_count": 89,
   "metadata": {},
   "outputs": [
    {
     "name": "stdout",
     "output_type": "stream",
     "text": [
      "On strat 0\n",
      "At  0.0 %\n",
      "At  33.33333333333333 %\n",
      "At  66.66666666666666 %\n",
      "At  100.0 %\n",
      "At  133.33333333333331 %\n",
      "At  166.66666666666669 %\n",
      "At  200.0 %\n",
      "On random\n",
      "At  0.0 %\n",
      "At  33.33333333333333 %\n",
      "At  66.66666666666666 %\n",
      "At  100.0 %\n",
      "At  133.33333333333331 %\n",
      "At  166.66666666666669 %\n",
      "At  200.0 %\n",
      "On strat 1\n",
      "At  0.0 %\n",
      "At  33.33333333333333 %\n",
      "At  66.66666666666666 %\n",
      "At  100.0 %\n",
      "At  133.33333333333331 %\n",
      "At  166.66666666666669 %\n",
      "At  200.0 %\n",
      "On random\n",
      "At  0.0 %\n",
      "At  33.33333333333333 %\n",
      "At  66.66666666666666 %\n",
      "At  100.0 %\n",
      "At  133.33333333333331 %\n",
      "At  166.66666666666669 %\n",
      "At  200.0 %\n",
      "On strat 2\n",
      "At  0.0 %\n",
      "At  33.33333333333333 %\n",
      "At  66.66666666666666 %\n",
      "At  100.0 %\n",
      "At  133.33333333333331 %\n",
      "At  166.66666666666669 %\n",
      "At  200.0 %\n",
      "On random\n",
      "At  0.0 %\n",
      "At  33.33333333333333 %\n",
      "At  66.66666666666666 %\n",
      "At  100.0 %\n",
      "At  133.33333333333331 %\n",
      "At  166.66666666666669 %\n",
      "At  200.0 %\n",
      "On strat 3\n",
      "At  0.0 %\n",
      "At  33.33333333333333 %\n",
      "At  66.66666666666666 %\n",
      "At  100.0 %\n",
      "At  133.33333333333331 %\n",
      "At  166.66666666666669 %\n",
      "At  200.0 %\n",
      "On random\n",
      "At  0.0 %\n",
      "At  33.33333333333333 %\n",
      "At  66.66666666666666 %\n",
      "At  100.0 %\n",
      "At  133.33333333333331 %\n",
      "At  166.66666666666669 %\n",
      "At  200.0 %\n",
      "On strat 4\n",
      "At  0.0 %\n",
      "At  33.33333333333333 %\n",
      "At  66.66666666666666 %\n",
      "At  100.0 %\n",
      "At  133.33333333333331 %\n",
      "At  166.66666666666669 %\n",
      "At  200.0 %\n",
      "On random\n",
      "At  0.0 %\n",
      "At  33.33333333333333 %\n",
      "At  66.66666666666666 %\n",
      "At  100.0 %\n",
      "At  133.33333333333331 %\n",
      "At  166.66666666666669 %\n",
      "At  200.0 %\n",
      "On strat 5\n",
      "At  0.0 %\n",
      "At  33.33333333333333 %\n",
      "At  66.66666666666666 %\n",
      "At  100.0 %\n",
      "At  133.33333333333331 %\n",
      "At  166.66666666666669 %\n",
      "At  200.0 %\n",
      "On random\n",
      "At  0.0 %\n",
      "At  33.33333333333333 %\n",
      "At  66.66666666666666 %\n",
      "At  100.0 %\n",
      "At  133.33333333333331 %\n",
      "At  166.66666666666669 %\n",
      "At  200.0 %\n",
      "On strat 6\n",
      "At  0.0 %\n",
      "At  33.33333333333333 %\n",
      "At  66.66666666666666 %\n",
      "At  100.0 %\n",
      "At  133.33333333333331 %\n",
      "At  166.66666666666669 %\n",
      "At  200.0 %\n",
      "On random\n",
      "At  0.0 %\n",
      "At  33.33333333333333 %\n",
      "At  66.66666666666666 %\n",
      "At  100.0 %\n",
      "At  133.33333333333331 %\n",
      "At  166.66666666666669 %\n",
      "At  200.0 %\n",
      "On strat 7\n",
      "At  0.0 %\n",
      "At  33.33333333333333 %\n",
      "At  66.66666666666666 %\n",
      "At  100.0 %\n",
      "At  133.33333333333331 %\n",
      "At  166.66666666666669 %\n",
      "At  200.0 %\n",
      "On random\n",
      "At  0.0 %\n",
      "At  33.33333333333333 %\n",
      "At  66.66666666666666 %\n",
      "At  100.0 %\n",
      "At  133.33333333333331 %\n",
      "At  166.66666666666669 %\n",
      "At  200.0 %\n",
      "On strat 8\n",
      "At  0.0 %\n",
      "At  33.33333333333333 %\n",
      "At  66.66666666666666 %\n",
      "At  100.0 %\n",
      "At  133.33333333333331 %\n",
      "At  166.66666666666669 %\n",
      "At  200.0 %\n",
      "On random\n",
      "At  0.0 %\n",
      "At  33.33333333333333 %\n",
      "At  66.66666666666666 %\n",
      "At  100.0 %\n",
      "At  133.33333333333331 %\n",
      "At  166.66666666666669 %\n",
      "At  200.0 %\n",
      "On strat 9\n",
      "At  0.0 %\n",
      "At  33.33333333333333 %\n",
      "At  66.66666666666666 %\n",
      "At  100.0 %\n",
      "At  133.33333333333331 %\n",
      "At  166.66666666666669 %\n",
      "At  200.0 %\n",
      "On random\n",
      "At  0.0 %\n",
      "At  33.33333333333333 %\n",
      "At  66.66666666666666 %\n",
      "At  100.0 %\n",
      "At  133.33333333333331 %\n",
      "At  166.66666666666669 %\n",
      "At  200.0 %\n"
     ]
    }
   ],
   "source": [
    "for ix, samples in enumerate(strat_sample_list):\n",
    "    print(\"On strat\", ix)\n",
    "    with open(f\"msas/strategy_sampled_msa_temporal_{ix}.txt\", \"w\") as dest:\n",
    "        for lx, line in enumerate(eu.msa_from_screed_ids(samples)):\n",
    "            if lx % 100 == 0:\n",
    "                print(\"At \", (lx / 300) * 100, \"%\")\n",
    "            dest.write(line + \"\\n\")\n",
    "            \n",
    "    samples = random_sample_list[ix]\n",
    "    print(\"On random\")\n",
    "    with open(f\"msas/random_sampled_msa_temporal_{ix}.txt\", \"w\") as dest:\n",
    "        for lx, line in enumerate(eu.msa_from_screed_ids(samples)):\n",
    "            if lx % 100 == 0:\n",
    "                print(\"At \", (lx / 300) * 100, \"%\")\n",
    "            dest.write(line + \"\\n\")\n",
    "            \n",
    "#     break"
   ]
  },
  {
   "cell_type": "code",
   "execution_count": null,
   "metadata": {},
   "outputs": [],
   "source": [
    "for ix, samples in enumerate(random_samples):\n",
    "    with open(f\"msas/strategy_sampled_msa_{ix}.txt\", \"w\") as dest:\n",
    "        for line in eu.msa_from_screed_ids(samples):\n",
    "            dest.write(line)"
   ]
  }
 ],
 "metadata": {
  "kernelspec": {
   "display_name": "Python 3",
   "language": "python",
   "name": "python3"
  },
  "language_info": {
   "codemirror_mode": {
    "name": "ipython",
    "version": 3
   },
   "file_extension": ".py",
   "mimetype": "text/x-python",
   "name": "python",
   "nbconvert_exporter": "python",
   "pygments_lexer": "ipython3",
   "version": "3.8.8"
  }
 },
 "nbformat": 4,
 "nbformat_minor": 4
}
