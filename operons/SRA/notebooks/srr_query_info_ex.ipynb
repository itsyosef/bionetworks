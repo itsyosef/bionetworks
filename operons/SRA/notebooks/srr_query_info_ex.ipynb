{
 "cells": [
  {
   "cell_type": "code",
   "execution_count": 3,
   "metadata": {},
   "outputs": [
    {
     "name": "stderr",
     "output_type": "stream",
     "text": [
      "100%|██████████| 4/4 [00:00<00:00, 12.99it/s]\n"
     ]
    }
   ],
   "source": [
    "#!/usr/bin/env python3\n",
    "# coding: utf-8\n",
    "\n",
    "import pandas as pd\n",
    "import sys, os\n",
    "from pathlib import Path\n",
    "from pysradb.search import SraSearch\n",
    "\n",
    "# genus = sys.argv[1]\n",
    "genus = \"Mycobacterium\"\n",
    "# if len(sys.argv) > 2:\n",
    "#     num_results = sys.argv[2]\n",
    "# else:\n",
    "#     num_results = 2\n",
    "    \n",
    "# print(num_results)\n",
    "\n",
    "path = Path(\"/scratch/jho5ze/bionets/operons/SRA/genera/\")\n",
    "\n",
    "query = SraSearch(return_max=4, query=f\"{genus} RNA-Seq\")\n",
    "query.search()\n",
    "query.get_df().tail(2).to_csv(path/f\"{genus}/{genus}_query_info.csv\")\n",
    "\n"
   ]
  },
  {
   "cell_type": "code",
   "execution_count": 7,
   "metadata": {},
   "outputs": [
    {
     "name": "stderr",
     "output_type": "stream",
     "text": [
      "100%|██████████| 1/1 [00:00<00:00,  5.93it/s]\n"
     ]
    }
   ],
   "source": [
    "query = SraSearch(return_max=4, query=f\"SRX254760\")\n",
    "query.search()\n",
    "query.get_df().to_csv(path/f\"Escherichia/Escherichia_query_info.csv\")"
   ]
  },
  {
   "cell_type": "code",
   "execution_count": 11,
   "metadata": {},
   "outputs": [
    {
     "name": "stderr",
     "output_type": "stream",
     "text": [
      "/apps/software/standard/compiler/gcc/9.2.0/jupyter_conda/2020.11-py3.8/lib/python3.8/site-packages/IPython/core/interactiveshell.py:3146: DtypeWarning: Columns (0,2,3,4,6,10,11,13,14,15) have mixed types.Specify dtype option on import or set low_memory=False.\n",
      "  has_raised = await self.run_ast_nodes(code_ast.body, cell_name,\n"
     ]
    },
    {
     "data": {
      "text/html": [
       "<div>\n",
       "<style scoped>\n",
       "    .dataframe tbody tr th:only-of-type {\n",
       "        vertical-align: middle;\n",
       "    }\n",
       "\n",
       "    .dataframe tbody tr th {\n",
       "        vertical-align: top;\n",
       "    }\n",
       "\n",
       "    .dataframe thead th {\n",
       "        text-align: right;\n",
       "    }\n",
       "</style>\n",
       "<table border=\"1\" class=\"dataframe\">\n",
       "  <thead>\n",
       "    <tr style=\"text-align: right;\">\n",
       "      <th></th>\n",
       "      <th>COVID_19_VARIANT</th>\n",
       "      <th>Report Date</th>\n",
       "      <th>VARIANT_CLEAN</th>\n",
       "      <th>Vaccine Age group</th>\n",
       "      <th>Age Group</th>\n",
       "      <th>Patient Age in Years</th>\n",
       "      <th>Tiered Race Ethnicity</th>\n",
       "      <th>Variant Count</th>\n",
       "      <th>Death Count</th>\n",
       "      <th>Hospitalized Count</th>\n",
       "      <th>...</th>\n",
       "      <th>PATIENT_CURRENT_SEX</th>\n",
       "      <th>PATIENT_COUNTY</th>\n",
       "      <th>OUTBREAK_NAME</th>\n",
       "      <th>Event_Dt_Upd</th>\n",
       "      <th>WEEK_END_DT_CDC</th>\n",
       "      <th>Lab_Report_Dt</th>\n",
       "      <th>Testing_Lab_Accession_Number</th>\n",
       "      <th>Reporting_Facility_Name</th>\n",
       "      <th>Ordering_Facility_Name</th>\n",
       "      <th>Test_result</th>\n",
       "    </tr>\n",
       "  </thead>\n",
       "  <tbody>\n",
       "    <tr>\n",
       "      <th>4</th>\n",
       "      <td>B.1.1.7 - Alpha</td>\n",
       "      <td>2/10/2022</td>\n",
       "      <td>B.1.1.7</td>\n",
       "      <td>16-17 Years</td>\n",
       "      <td>10-19 Years</td>\n",
       "      <td>18.0</td>\n",
       "      <td>Black</td>\n",
       "      <td>1.0</td>\n",
       "      <td>0.0</td>\n",
       "      <td>0.0</td>\n",
       "      <td>...</td>\n",
       "      <td>Male</td>\n",
       "      <td>51003.0</td>\n",
       "      <td>RES003UVAfootbal0221</td>\n",
       "      <td>2/11/2021</td>\n",
       "      <td>2/13/2021</td>\n",
       "      <td>2/16/2021</td>\n",
       "      <td>21H-042MC00657</td>\n",
       "      <td>UVA Health System Medical Laboratories</td>\n",
       "      <td>UVA Athletics Sports Medicine</td>\n",
       "      <td>Positive Variant</td>\n",
       "    </tr>\n",
       "  </tbody>\n",
       "</table>\n",
       "<p>1 rows × 21 columns</p>\n",
       "</div>"
      ],
      "text/plain": [
       "  COVID_19_VARIANT Report Date VARIANT_CLEAN Vaccine Age group    Age Group  \\\n",
       "4  B.1.1.7 - Alpha   2/10/2022       B.1.1.7       16-17 Years  10-19 Years   \n",
       "\n",
       "   Patient Age in Years Tiered Race Ethnicity  Variant Count  Death Count  \\\n",
       "4                  18.0                 Black            1.0          0.0   \n",
       "\n",
       "   Hospitalized Count  ... PATIENT_CURRENT_SEX PATIENT_COUNTY  \\\n",
       "4                 0.0  ...                Male        51003.0   \n",
       "\n",
       "          OUTBREAK_NAME Event_Dt_Upd WEEK_END_DT_CDC Lab_Report_Dt  \\\n",
       "4  RES003UVAfootbal0221    2/11/2021       2/13/2021     2/16/2021   \n",
       "\n",
       "  Testing_Lab_Accession_Number                 Reporting_Facility_Name  \\\n",
       "4               21H-042MC00657  UVA Health System Medical Laboratories   \n",
       "\n",
       "          Ordering_Facility_Name       Test_result  \n",
       "4  UVA Athletics Sports Medicine  Positive Variant  \n",
       "\n",
       "[1 rows x 21 columns]"
      ]
     },
     "execution_count": 11,
     "metadata": {},
     "output_type": "execute_result"
    }
   ],
   "source": [
    "data = pd.read_csv(\"/project/biocomplexity/COVID-19_commons/products/external_data_collection/vdh_biosurveillance/New format VDH-UVA-DSA-COVID-19-Variant.csv\")\n",
    "\n",
    "data.dropna().head(1)"
   ]
  },
  {
   "cell_type": "code",
   "execution_count": 17,
   "metadata": {},
   "outputs": [
    {
     "data": {
      "text/plain": [
       "Hospitalized Count                                                 0.0\n",
       "HealthDistrict                                              Blue Ridge\n",
       "PATIENT_CURRENT_SEX                                               Male\n",
       "PATIENT_COUNTY                                                 51003.0\n",
       "OUTBREAK_NAME                                     RES003UVAfootbal0221\n",
       "Event_Dt_Upd                                                 2/11/2021\n",
       "WEEK_END_DT_CDC                                              2/13/2021\n",
       "Lab_Report_Dt                                                2/16/2021\n",
       "Testing_Lab_Accession_Number                            21H-042MC00657\n",
       "Reporting_Facility_Name         UVA Health System Medical Laboratories\n",
       "Ordering_Facility_Name                   UVA Athletics Sports Medicine\n",
       "Test_result                                           Positive Variant\n",
       "Name: 4, dtype: object"
      ]
     },
     "execution_count": 17,
     "metadata": {},
     "output_type": "execute_result"
    }
   ],
   "source": [
    "data.dropna().iloc[0, 9:]"
   ]
  },
  {
   "cell_type": "code",
   "execution_count": 34,
   "metadata": {},
   "outputs": [
    {
     "data": {
      "text/plain": [
       "<AxesSubplot:>"
      ]
     },
     "execution_count": 34,
     "metadata": {},
     "output_type": "execute_result"
    },
    {
     "data": {
      "image/png": "[encoded data removed]",
      "text/plain": [
       "<Figure size 720x576 with 1 Axes>"
      ]
     },
     "metadata": {
      "needs_background": "light"
     },
     "output_type": "display_data"
    }
   ],
   "source": [
    "from matplotlib import pyplot as plt\n",
    "\n",
    "f, ax = plt.subplots(figsize=(10,8))\n",
    "\n",
    "data.WEEK_END_DT_CDC = pd.to_datetime(data.WEEK_END_DT_CDC)\n",
    "data.WEEK_END_DT_CDC.value_counts().plot(ax=ax) #[\"Testing_Lab_Accession_Number\"].dropna().head(30)\n",
    "tsv = pd.read_csv(\"/sfs/qumulo/qproject/biocomplexity/COVID-19_commons/products/external_data_collection/VDH_opioids/VDH-UVA-DSA-COVID-19-Variant.tsv\", sep=\"\\t\", parse_dates=[\"Event_Dt_Upd\"])\n",
    "tsv.Event_Dt_Upd.value_counts().plot(ax=ax)"
   ]
  },
  {
   "cell_type": "code",
   "execution_count": 29,
   "metadata": {},
   "outputs": [
    {
     "data": {
      "text/html": [
       "<div>\n",
       "<style scoped>\n",
       "    .dataframe tbody tr th:only-of-type {\n",
       "        vertical-align: middle;\n",
       "    }\n",
       "\n",
       "    .dataframe tbody tr th {\n",
       "        vertical-align: top;\n",
       "    }\n",
       "\n",
       "    .dataframe thead th {\n",
       "        text-align: right;\n",
       "    }\n",
       "</style>\n",
       "<table border=\"1\" class=\"dataframe\">\n",
       "  <thead>\n",
       "    <tr style=\"text-align: right;\">\n",
       "      <th></th>\n",
       "      <th>COVID_19_VARIANT</th>\n",
       "      <th>Specimen_Id</th>\n",
       "      <th>Report Date</th>\n",
       "      <th>VARIANT_CLEAN</th>\n",
       "      <th>Vaccine Age group</th>\n",
       "      <th>Age Group</th>\n",
       "      <th>Patient Age in Years</th>\n",
       "      <th>Tiered Race Ethnicity</th>\n",
       "      <th>Variant Count</th>\n",
       "      <th>Death Count</th>\n",
       "      <th>...</th>\n",
       "      <th>PATIENT_CURRENT_SEX</th>\n",
       "      <th>PATIENT_COUNTY</th>\n",
       "      <th>OUTBREAK_IND</th>\n",
       "      <th>Event_Dt_Upd</th>\n",
       "      <th>WEEK_END_DT_CDC</th>\n",
       "      <th>Lab_Report_Dt</th>\n",
       "      <th>Testing_Lab_Accession_Number</th>\n",
       "      <th>Reporting_Facility_Name</th>\n",
       "      <th>Ordering_Facility_Name</th>\n",
       "      <th>DCLS Sequencing ID</th>\n",
       "    </tr>\n",
       "  </thead>\n",
       "  <tbody>\n",
       "    <tr>\n",
       "      <th>0</th>\n",
       "      <td>B.1.1.7 - Alpha</td>\n",
       "      <td>R210410256</td>\n",
       "      <td>11/15/2021</td>\n",
       "      <td>B.1.1.7</td>\n",
       "      <td>65-74 Years</td>\n",
       "      <td>60-69 Years</td>\n",
       "      <td>69</td>\n",
       "      <td>Black</td>\n",
       "      <td>1</td>\n",
       "      <td>0</td>\n",
       "      <td>...</td>\n",
       "      <td>Female</td>\n",
       "      <td>51740</td>\n",
       "      <td>N</td>\n",
       "      <td>4/9/2021</td>\n",
       "      <td>4/10/2021</td>\n",
       "      <td>5/27/2021</td>\n",
       "      <td>R210410256-001</td>\n",
       "      <td>Virginia DCLS</td>\n",
       "      <td>PORTSMOUTH CITY HEALTH DEPARTMENT</td>\n",
       "      <td>VA-DCLS-5118</td>\n",
       "    </tr>\n",
       "    <tr>\n",
       "      <th>1</th>\n",
       "      <td>B.1.1.7 - Alpha</td>\n",
       "      <td>R210504305</td>\n",
       "      <td>11/15/2021</td>\n",
       "      <td>B.1.1.7</td>\n",
       "      <td>0-4 Years</td>\n",
       "      <td>0-9 Years</td>\n",
       "      <td>0</td>\n",
       "      <td>Other Race</td>\n",
       "      <td>1</td>\n",
       "      <td>0</td>\n",
       "      <td>...</td>\n",
       "      <td>Female</td>\n",
       "      <td>51087</td>\n",
       "      <td>N</td>\n",
       "      <td>4/26/2021</td>\n",
       "      <td>5/1/2021</td>\n",
       "      <td>5/27/2021</td>\n",
       "      <td>R210504305-001</td>\n",
       "      <td>Virginia DCLS</td>\n",
       "      <td>BON SECOURS ST MARY'S HOSPITAL</td>\n",
       "      <td>VA-DCLS-5119</td>\n",
       "    </tr>\n",
       "  </tbody>\n",
       "</table>\n",
       "<p>2 rows × 22 columns</p>\n",
       "</div>"
      ],
      "text/plain": [
       "  COVID_19_VARIANT Specimen_Id  Report Date VARIANT_CLEAN Vaccine Age group  \\\n",
       "0  B.1.1.7 - Alpha   R210410256  11/15/2021       B.1.1.7       65-74 Years   \n",
       "1  B.1.1.7 - Alpha   R210504305  11/15/2021       B.1.1.7         0-4 Years   \n",
       "\n",
       "     Age Group  Patient Age in Years Tiered Race Ethnicity  Variant Count  \\\n",
       "0  60-69 Years                    69                 Black              1   \n",
       "1    0-9 Years                     0            Other Race              1   \n",
       "\n",
       "   Death Count  ...  PATIENT_CURRENT_SEX PATIENT_COUNTY OUTBREAK_IND  \\\n",
       "0            0  ...               Female          51740            N   \n",
       "1            0  ...               Female          51087            N   \n",
       "\n",
       "   Event_Dt_Upd WEEK_END_DT_CDC Lab_Report_Dt Testing_Lab_Accession_Number  \\\n",
       "0      4/9/2021       4/10/2021     5/27/2021               R210410256-001   \n",
       "1     4/26/2021        5/1/2021     5/27/2021               R210504305-001   \n",
       "\n",
       "  Reporting_Facility_Name             Ordering_Facility_Name  \\\n",
       "0           Virginia DCLS  PORTSMOUTH CITY HEALTH DEPARTMENT   \n",
       "1           Virginia DCLS     BON SECOURS ST MARY'S HOSPITAL   \n",
       "\n",
       "  DCLS Sequencing ID  \n",
       "0       VA-DCLS-5118  \n",
       "1       VA-DCLS-5119  \n",
       "\n",
       "[2 rows x 22 columns]"
      ]
     },
     "execution_count": 29,
     "metadata": {},
     "output_type": "execute_result"
    }
   ],
   "source": [
    "tsv = pd.read_csv(\"/sfs/qumulo/qproject/biocomplexity/COVID-19_commons/products/external_data_collection/VDH_opioids/VDH-UVA-DSA-COVID-19-Variant.tsv\", sep=\"\\t\")\n",
    "tsv.head(2)"
   ]
  },
  {
   "cell_type": "code",
   "execution_count": 35,
   "metadata": {},
   "outputs": [
    {
     "data": {
      "text/plain": [
       "(39314, 21)"
      ]
     },
     "execution_count": 35,
     "metadata": {},
     "output_type": "execute_result"
    }
   ],
   "source": [
    "data.shape"
   ]
  },
  {
   "cell_type": "code",
   "execution_count": 25,
   "metadata": {},
   "outputs": [
    {
     "data": {
      "text/html": [
       "<div>\n",
       "<style scoped>\n",
       "    .dataframe tbody tr th:only-of-type {\n",
       "        vertical-align: middle;\n",
       "    }\n",
       "\n",
       "    .dataframe tbody tr th {\n",
       "        vertical-align: top;\n",
       "    }\n",
       "\n",
       "    .dataframe thead th {\n",
       "        text-align: right;\n",
       "    }\n",
       "</style>\n",
       "<table border=\"1\" class=\"dataframe\">\n",
       "  <thead>\n",
       "    <tr style=\"text-align: right;\">\n",
       "      <th></th>\n",
       "      <th>report_date</th>\n",
       "      <th>covid_19_variant</th>\n",
       "      <th>variant_clean</th>\n",
       "      <th>vaccine_age_group</th>\n",
       "      <th>age_group</th>\n",
       "      <th>patient_age_in_years</th>\n",
       "      <th>tiered_race_ethnicity</th>\n",
       "      <th>variant_count</th>\n",
       "      <th>death_count</th>\n",
       "      <th>hospitalized_count</th>\n",
       "      <th>healthdistrict</th>\n",
       "      <th>patient_current_sex</th>\n",
       "      <th>patient_county</th>\n",
       "      <th>week_end_dt_cdc</th>\n",
       "      <th>specimen_id</th>\n",
       "      <th>testing_lab_accession_number</th>\n",
       "      <th>reporting_facility_name</th>\n",
       "      <th>ordering_facility_name</th>\n",
       "    </tr>\n",
       "  </thead>\n",
       "  <tbody>\n",
       "    <tr>\n",
       "      <th>0</th>\n",
       "      <td>2021-10-27T00:00:00.000</td>\n",
       "      <td>B.1.1.7 - Alpha</td>\n",
       "      <td>B.1.1.7</td>\n",
       "      <td>0-4 Years</td>\n",
       "      <td>0-9 Years</td>\n",
       "      <td>4</td>\n",
       "      <td>Not Reported</td>\n",
       "      <td>1</td>\n",
       "      <td>0</td>\n",
       "      <td>0</td>\n",
       "      <td>Blue Ridge</td>\n",
       "      <td>Female</td>\n",
       "      <td>51003</td>\n",
       "      <td>2021-03-27T00:00:00.000</td>\n",
       "      <td>21H-082MC00324</td>\n",
       "      <td>21H-082MC00324</td>\n",
       "      <td>UVA Health System Medical Laboratories</td>\n",
       "      <td>Piedmont Pediatrics</td>\n",
       "    </tr>\n",
       "    <tr>\n",
       "      <th>1</th>\n",
       "      <td>2021-10-27T00:00:00.000</td>\n",
       "      <td>B.1.1.7 - Alpha</td>\n",
       "      <td>B.1.1.7</td>\n",
       "      <td>25-34 Years</td>\n",
       "      <td>20-29 Years</td>\n",
       "      <td>25</td>\n",
       "      <td>Latino</td>\n",
       "      <td>1</td>\n",
       "      <td>0</td>\n",
       "      <td>0</td>\n",
       "      <td>Blue Ridge</td>\n",
       "      <td>Female</td>\n",
       "      <td>51540</td>\n",
       "      <td>2021-03-27T00:00:00.000</td>\n",
       "      <td>21H-087MC00240</td>\n",
       "      <td>21H-087MC00240</td>\n",
       "      <td>UVA Health System Medical Laboratories</td>\n",
       "      <td>UVa Health</td>\n",
       "    </tr>\n",
       "  </tbody>\n",
       "</table>\n",
       "</div>"
      ],
      "text/plain": [
       "               report_date covid_19_variant variant_clean vaccine_age_group  \\\n",
       "0  2021-10-27T00:00:00.000  B.1.1.7 - Alpha       B.1.1.7         0-4 Years   \n",
       "1  2021-10-27T00:00:00.000  B.1.1.7 - Alpha       B.1.1.7       25-34 Years   \n",
       "\n",
       "     age_group  patient_age_in_years tiered_race_ethnicity  variant_count  \\\n",
       "0    0-9 Years                     4          Not Reported              1   \n",
       "1  20-29 Years                    25                Latino              1   \n",
       "\n",
       "   death_count  hospitalized_count healthdistrict patient_current_sex  \\\n",
       "0            0                   0     Blue Ridge              Female   \n",
       "1            0                   0     Blue Ridge              Female   \n",
       "\n",
       "   patient_county          week_end_dt_cdc     specimen_id  \\\n",
       "0           51003  2021-03-27T00:00:00.000  21H-082MC00324   \n",
       "1           51540  2021-03-27T00:00:00.000  21H-087MC00240   \n",
       "\n",
       "  testing_lab_accession_number                 reporting_facility_name  \\\n",
       "0               21H-082MC00324  UVA Health System Medical Laboratories   \n",
       "1               21H-087MC00240  UVA Health System Medical Laboratories   \n",
       "\n",
       "  ordering_facility_name  \n",
       "0    Piedmont Pediatrics  \n",
       "1             UVa Health  "
      ]
     },
     "execution_count": 25,
     "metadata": {},
     "output_type": "execute_result"
    }
   ],
   "source": [
    "csv = pd.read_csv(\"/sfs/qumulo/qproject/biocomplexity/COVID-19_commons/products/external_data_collection/VDH_opioids/VDH-UVA-DSA-COVID-19-Variant.csv\")\n",
    "csv.head(2)\n"
   ]
  },
  {
   "cell_type": "code",
   "execution_count": null,
   "metadata": {},
   "outputs": [],
   "source": []
  }
 ],
 "metadata": {
  "kernelspec": {
   "display_name": "Python 3",
   "language": "python",
   "name": "python3"
  },
  "language_info": {
   "codemirror_mode": {
    "name": "ipython",
    "version": 3
   },
   "file_extension": ".py",
   "mimetype": "text/x-python",
   "name": "python",
   "nbconvert_exporter": "python",
   "pygments_lexer": "ipython3",
   "version": "3.8.8"
  }
 },
 "nbformat": 4,
 "nbformat_minor": 4
}
