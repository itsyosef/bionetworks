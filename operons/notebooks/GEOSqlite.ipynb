{
 "cells": [
  {
   "cell_type": "markdown",
   "metadata": {},
   "source": [
    "### Setup"
   ]
  },
  {
   "cell_type": "code",
   "execution_count": 20,
   "metadata": {},
   "outputs": [],
   "source": [
    "import sqlite3\n",
    "import pandas as pd\n",
    "import numpy as np\n",
    "import wget\n",
    "import tarfile\n",
    "from pathlib import Path"
   ]
  },
  {
   "cell_type": "code",
   "execution_count": 2,
   "metadata": {},
   "outputs": [
    {
     "name": "stdout",
     "output_type": "stream",
     "text": [
      "[('gse',), ('gpl',), ('gsm',), ('gse_gsm',), ('gse_gpl',), ('gds',), ('gds_subset',), ('sMatrix',), ('geodb_column_desc',), ('geoConvert',), ('metaInfo',), ('gse_ft',), ('gse_ft_data',), ('gse_ft_idx',), ('gse_ft_content',), ('gse_ft_docsize',), ('gse_ft_config',)]\n"
     ]
    }
   ],
   "source": [
    "con = sqlite3.connect(\"GEOmetadb.sqlite\")\n",
    "cursor = con.cursor()\n",
    "cursor.execute(\"select name from sqlite_master where type='table'\")\n",
    "print(cursor.fetchall())\n",
    "# cur = con.cursor()"
   ]
  },
  {
   "cell_type": "code",
   "execution_count": 5,
   "metadata": {},
   "outputs": [
    {
     "data": {
      "text/plain": [
       "<sqlite3.Cursor at 0x2ac9ce33ab90>"
      ]
     },
     "execution_count": 5,
     "metadata": {},
     "output_type": "execute_result"
    }
   ],
   "source": [
    "# table = \"gse\"\n",
    "# cols = \"title,gse,summary,overall_design,supplementary_file\"\n",
    "# cursor.execute(f\"create virtual table {table}_ft using fts5({cols})\")\n",
    "# cursor.execute(f\"insert into {table}_ft select {cols} from {table}\")"
   ]
  },
  {
   "cell_type": "code",
   "execution_count": 3,
   "metadata": {},
   "outputs": [],
   "source": [
    "cols = \"title,gse,summary,overall_design,supplementary_file\"\n",
    "gse_map = {i:ix for ix, i in enumerate(cols.split(\",\"))}"
   ]
  },
  {
   "cell_type": "markdown",
   "metadata": {},
   "source": [
    "### Query Process"
   ]
  },
  {
   "cell_type": "code",
   "execution_count": 26,
   "metadata": {},
   "outputs": [],
   "source": [
    "get_wigs_from_ftps(get_genus_ftps(\"Campylobacter\"))"
   ]
  },
  {
   "cell_type": "code",
   "execution_count": 25,
   "metadata": {},
   "outputs": [],
   "source": [
    "def get_genus_ftps(genus):\n",
    "\n",
    "    query = f\"\"\"SELECT * \n",
    "            FROM gse_ft WHERE gse_ft\n",
    "            MATCH '{genus}'\"\"\"\n",
    "\n",
    "    query = f\"\"\"SELECT *\n",
    "            FROM gse_ft WHERE gse_ft\n",
    "            MATCH 'RNA AND seq'\n",
    "            AND gse_ft\n",
    "            MATCH '{genus}'\n",
    "            \"\"\"\n",
    "    results = cursor.execute(query).fetchall()\n",
    "\n",
    "    positive_terms = \"wild WT dRNA-\".split()\n",
    "    negative_terms = \"plasmid\".split()\n",
    "\n",
    "    new_results = []\n",
    "    for i in results:\n",
    "        descriptive_text = i[gse_map[\"title\"]] + i[gse_map[\"summary\"]] + i[gse_map[\"overall_design\"]]\n",
    "        add = True\n",
    "        for n in negative_terms:\n",
    "            if n in descriptive_text:\n",
    "                add = False\n",
    "                break\n",
    "        if add:\n",
    "            new_results.append(i)\n",
    "\n",
    "    results = new_results\n",
    "\n",
    "    ftps = []\n",
    "\n",
    "    for ix, i in enumerate(results):\n",
    "        descriptive_text = i[gse_map[\"title\"]] + i[gse_map[\"summary\"]] + i[gse_map[\"overall_design\"]]\n",
    "        for p in positive_terms:\n",
    "            if p in descriptive_text:\n",
    "                if i[-1] is None:\n",
    "                    continue\n",
    "                if \"RAW.tar\" in i[-1]:\n",
    "                    ftps.append([j for j in i[-1].split(\";\") if \"RAW\" in j][0].strip())\n",
    "                break\n",
    "    return ftps\n",
    "\n",
    "def get_wigs_from_ftps(ftps, path=\".\"):\n",
    "    path = Path(path)\n",
    "    for file in ftps:\n",
    "        extracted = False\n",
    "        wget.download(file)\n",
    "        file = file.split(\"/\")[-1]\n",
    "        with tarfile.open(file, \"r:\") as tar:\n",
    "            names = tar.getmembers()\n",
    "            wig_files = [n for n in names if \".wig\" in n.name] # and (\"wt\" in n.name or \"WT\" in n.name) ]\n",
    "            if len(wig_files) > 0:\n",
    "                tar.extractall(path=path, members=wig_files)\n",
    "                \n",
    "        os.remove(file)\n",
    "        "
   ]
  },
  {
   "cell_type": "code",
   "execution_count": 24,
   "metadata": {},
   "outputs": [
    {
     "name": "stdout",
     "output_type": "stream",
     "text": [
      "ID: 1254998.0\n",
      "title: LB 0.4 B1 TEX neg L1 GA\n",
      "gsm: GSM1331409\n",
      "series_id: GSE55199\n",
      "gpl: GPL17024\n",
      "status: Public on Oct 18 2014\n",
      "submission_date: 2014-02-20\n",
      "last_update_date: 2014-10-18\n",
      "type: SRA\n",
      "source_name_ch1: Escherichia coli MG1655 cells\n",
      "organism_ch1: Escherichia coli str. K-12 substr. MG1655\n",
      "characteristics_ch1: strain: MG1655;\tmedium: LB;\tgrowth phase: exponential\n",
      "molecule_ch1: total RNA\n",
      "label_ch1: None\n",
      "treatment_protocol_ch1: Samples were mixed, incubated on ice for 10 min after which cells were collected by centrifugation at 4150 rpm at 4˚C for 10 min.  Cell pellets were snap frozen in an ethanol/dry ice slurry and stored at -80°C until total RNA could be extracted.\n",
      "extract_protocol_ch1: Hot phenol (Sharma et al. 2010, Bloomberg 1990, EMBO J);\tThe libraries were generated by Vertis Biotechnologie AG (Munich, Germany). The samples were poly(A)-tailed by using poly(A) polymerase. The 5'-PPP were removed using tobacco acid pyrophosphatase (TAP) followed by the ligation of the RNA adapter to the 5'-monophosphate of the RNA. First-strand cDNA synthesis was performed with an oligo(dT)-adapter primer and the M-MLV reverse transcriptase. The resulting cDNA was PCR-amplified to reach a concentration of 20-30 ng/μl using a high fidelity DNA polymerase. The cDNA was purified using the Agencourt AMPure XP kit (Beckman Coulter Genomics) and was analyzed by capillary electrophoresis. The primers used for PCR amplification were designed for TruSeq sequencing according to the instructions of Illumina\n",
      "label_protocol_ch1: None\n",
      "source_name_ch2: None\n",
      "organism_ch2: None\n",
      "characteristics_ch2: None\n",
      "molecule_ch2: None\n",
      "label_ch2: None\n",
      "treatment_protocol_ch2: None\n",
      "extract_protocol_ch2: None\n",
      "label_protocol_ch2: None\n",
      "hyb_protocol: None\n",
      "description: None\n",
      "data_processing: Demultiplexing;\tFastq quality trimming using FastX and a cut-off value of 20;\tFastq to fasta conversion using FastX;\tSize filtering: discarding reads shorter than 12 nt (TRAPL);\tRead mapping using segemehl version 0.13 (TRAPL);\tCoverage calculation and normalisation (TRAPL);\tGenome_build: NC_000913.2;\tSupplementary_files_format_and_content: wiggle\n",
      "contact: Name: Konrad,U.,Förstner;\tEmail: konrad.foerstner@uni-wuerzburg.de;\tLaboratory: Jörg Vogel / Cynthia Sharma;\tDepartment: Institute for Molecular Infection Biology;\tInstitute: University of Würzburg;\tAddress: Josef-Schneider-Str. 2/D15;\tCity: Würzburg;\tState: Bavaria;\tZip/postal_code: 97080;\tCountry: Germany;\tWeb_link: http://www.imib-wuerzburg.de/home/contact/\n",
      "supplementary_file: None\n",
      "data_row_count: 0.0\n",
      "channel_count: 1.0\n"
     ]
    }
   ],
   "source": [
    "cs = [i[0] for i in cursor.execute(\"select * from gsm\").description]\n",
    "r = cursor.execute(\"select * from gsm where gsm='GSM1331409'\")\n",
    "rs = list(r.fetchone())\n",
    "for ix , i in enumerate(cs):\n",
    "    print(f\"{i}: {rs[ix]}\")"
   ]
  },
  {
   "cell_type": "code",
   "execution_count": null,
   "metadata": {},
   "outputs": [],
   "source": [
    "\"\"\"\n",
    "Process:\n",
    "\n",
    "EDIT:\n",
    "- Just need to do the GSE cause you can get the raw tar files of the gseeriment with \n",
    "ftp://ftp.ncbi.nlm.nih.gov/geo/series/GSE1nnn/GSE1000/suppl/GSE1000_RAW.tar formatted\n",
    "in the same way as below, then we can just parse through these\n",
    "\n",
    "Probably prioritize those which have wig files\n",
    "\n",
    "Search using fts over the GSE to get the project descriptions and then search for \n",
    "GSMs which have the same GSE in their \"series_id\" (or just skip straight to fts on \n",
    "the GSMs) and find those with the proper files/description in  \"source_name_ch1,\n",
    "organism_ch1, and treatment_protocol_ch1\".\n",
    "\n",
    "Then just wget ftp://ftp.ncbi.nlm.nih.gov/geo/samples/GSM*nnn/GSM*/suppl/* \n",
    "to get all supp files, even if not listed\n",
    "\"\"\""
   ]
  }
 ],
 "metadata": {
  "kernelspec": {
   "display_name": "Python 3",
   "language": "python",
   "name": "python3"
  },
  "language_info": {
   "codemirror_mode": {
    "name": "ipython",
    "version": 3
   },
   "file_extension": ".py",
   "mimetype": "text/x-python",
   "name": "python",
   "nbconvert_exporter": "python",
   "pygments_lexer": "ipython3",
   "version": "3.8.8"
  }
 },
 "nbformat": 4,
 "nbformat_minor": 4
}
